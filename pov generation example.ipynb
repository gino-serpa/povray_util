{
 "cells": [
  {
   "cell_type": "code",
   "execution_count": 1,
   "metadata": {
    "ExecuteTime": {
     "end_time": "2022-11-06T16:28:23.651997Z",
     "start_time": "2022-11-06T16:28:23.647216Z"
    }
   },
   "outputs": [],
   "source": [
    "from pov_classes import *"
   ]
  },
  {
   "cell_type": "code",
   "execution_count": 2,
   "metadata": {
    "ExecuteTime": {
     "end_time": "2022-11-06T16:28:23.660375Z",
     "start_time": "2022-11-06T16:28:23.654006Z"
    }
   },
   "outputs": [],
   "source": [
    "scene  = Scene()\n",
    "\n",
    "camera = Camera(location=(4,8,-12), \n",
    "                look_at=(0,1,2) )\n",
    "scene.add_camera(camera)\n",
    "\n",
    "light  = Light(location=(2,4,-3), \n",
    "               color='White' )\n",
    "scene.add_light(light)\n",
    "\n",
    "for i in range(3):\n",
    "    sphere = Sphere (center=(0+.5*i, 1+0.3*i,2+.4*i) , \n",
    "                     radius=0.7+0.2*i, \n",
    "                     texture='pigment { color Yellow }')\n",
    "    scene.add_sphere(sphere)\n",
    "\n",
    "box = Box()\n",
    "scene.add_box(box)"
   ]
  },
  {
   "cell_type": "code",
   "execution_count": 3,
   "metadata": {
    "ExecuteTime": {
     "end_time": "2022-11-06T16:28:23.665412Z",
     "start_time": "2022-11-06T16:28:23.662049Z"
    }
   },
   "outputs": [],
   "source": [
    "scene.generate_pov_file()"
   ]
  },
  {
   "cell_type": "code",
   "execution_count": 4,
   "metadata": {
    "ExecuteTime": {
     "end_time": "2022-11-06T16:28:24.352678Z",
     "start_time": "2022-11-06T16:28:23.666618Z"
    },
    "scrolled": false
   },
   "outputs": [
    {
     "name": "stdout",
     "output_type": "stream",
     "text": [
      "povray: cannot open the user configuration file /home/gino/.povray/3.7/povray.conf: No such file or directory\n",
      "Persistence of Vision(tm) Ray Tracer Version 3.7.0.8.unofficial (g++ @\n",
      " x86_64-pc-linux-gnu)\n",
      "This is an unofficial version compiled by:\n",
      " Dimitri John Ledkov <xnox@ubuntu.com> for Debian <www.debian.org>\n",
      " The POV-Ray Team is not responsible for supporting this version.\n",
      "\n",
      "POV-Ray is based on DKBTrace 2.12 by David K. Buck & Aaron A. Collins\n",
      "Copyright 1991-2013 Persistence of Vision Raytracer Pty. Ltd.\n",
      "\n",
      "Primary POV-Ray 3.7 Architects/Developers: (Alphabetically)\n",
      "  Chris Cason         Thorsten Froehlich  Christoph Lipka   \n",
      "\n",
      "With Assistance From: (Alphabetically)\n",
      "  Nicolas Calimet     Jerome Grimbert     James Holsenback    Christoph Hormann \n",
      "  Nathan Kopp         Juha Nieminen     \n",
      "\n",
      "Past Contributors: (Alphabetically)\n",
      "  Steve Anger         Eric Barish         Dieter Bayer        David K. Buck     \n",
      "  Nicolas Calimet     Chris Cason         Aaron A. Collins    Chris Dailey      \n",
      "  Steve Demlow        Andreas Dilger      Alexander Enzmann   Dan Farmer        \n",
      "  Thorsten Froehlich  Mark Gordon         James Holsenback    Christoph Hormann \n",
      "  Mike Hough          Chris Huff          Kari Kivisalo       Nathan Kopp       \n",
      "  Lutz Kretzschmar    Christoph Lipka     Jochen Lippert      Pascal Massimino  \n",
      "  Jim McElhiney       Douglas Muir        Juha Nieminen       Ron Parker        \n",
      "  Bill Pulver         Eduard Schwan       Wlodzimierz Skiba   Robert Skinner    \n",
      "  Yvo Smellenbergh    Zsolt Szalavari     Scott Taylor        Massimo Valentini \n",
      "  Timothy Wegner      Drew Wells          Chris Young       \n",
      "\n",
      "Other contributors are listed in the documentation.\n",
      "\n",
      "Support libraries used by POV-Ray:\n",
      "  ZLib 1.2.11, Copyright 1995-2012 Jean-loup Gailly and Mark Adler\n",
      "  LibPNG 1.6.37, Copyright 1998-2012 Glenn Randers-Pehrson\n",
      "  LibJPEG , Copyright 1991-2013 Thomas G. Lane, Guido Vollbeding\n",
      "  LibTIFF 4.1.0, Copyright 1988-1997 Sam Leffler, 1991-1997 SGI\n",
      "  Boost 1.71, http://www.boost.org/\n",
      "  OpenEXR 2.3.0 and IlmBase 2.3.0, Copyright (c) 2002-2011 Industrial Light &\n",
      " Magic.\n",
      "\n",
      "Parser Options\n",
      "  Input file: data.pov\n",
      "  Remove bounds........On \n",
      "  Split unions.........Off\n",
      "  Library paths:\n",
      "    /usr/share/povray-3.7\n",
      "    /usr/share/povray-3.7/ini\n",
      "    /usr/share/povray-3.7/include\n",
      "  Clock value:    0.000  (Animation off)\n",
      "Image Output Options\n",
      "  Image resolution.....800 by 600 (rows 1 to 600, columns 1 to 800).\n",
      "  Output file..........data.png, 24 bpp PNG\n",
      "  Dithering............Off\n",
      "  Graphic display......On  (gamma: sRGB)\n",
      "  Mosaic preview.......Off\n",
      "  Continued trace......Off\n",
      "Information Output Options\n",
      "  All Streams to console..........On \n",
      "  Debug Stream to console.........On \n",
      "  Fatal Stream to console.........On \n",
      "  Render Stream to console........On \n",
      "  Statistics Stream to console....On \n",
      "  Warning Stream to console.......On \n",
      "==== [Parsing...] ==========================================================\n",
      "File 'data.pov' line 25: Parse Error: No matching } in 'sphere', { found instead\n",
      "Fatal error in parser: Cannot parse input.\n",
      "Render failed\n",
      "\n"
     ]
    }
   ],
   "source": [
    "!povray data.pov"
   ]
  },
  {
   "cell_type": "code",
   "execution_count": null,
   "metadata": {},
   "outputs": [],
   "source": []
  }
 ],
 "metadata": {
  "kernelspec": {
   "display_name": "Python 3",
   "language": "python",
   "name": "python3"
  },
  "language_info": {
   "codemirror_mode": {
    "name": "ipython",
    "version": 3
   },
   "file_extension": ".py",
   "mimetype": "text/x-python",
   "name": "python",
   "nbconvert_exporter": "python",
   "pygments_lexer": "ipython3",
   "version": "3.8.8"
  }
 },
 "nbformat": 4,
 "nbformat_minor": 4
}
