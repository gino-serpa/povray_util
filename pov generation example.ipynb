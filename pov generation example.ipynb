{
 "cells": [
  {
   "cell_type": "code",
   "execution_count": 1,
   "metadata": {
    "ExecuteTime": {
     "end_time": "2022-11-05T15:53:54.960389Z",
     "start_time": "2022-11-05T15:53:54.957027Z"
    }
   },
   "outputs": [],
   "source": [
    "from pov_classes import *"
   ]
  },
  {
   "cell_type": "code",
   "execution_count": 2,
   "metadata": {
    "ExecuteTime": {
     "end_time": "2022-11-05T15:53:54.964983Z",
     "start_time": "2022-11-05T15:53:54.961798Z"
    }
   },
   "outputs": [],
   "source": [
    "scene  = Scene()\n",
    "\n",
    "camera = Camera( (0,8,-12), (0,1,2) )\n",
    "scene.add_camera(camera)\n",
    "\n",
    "light  = Light( (2,4,-3), 'White' )\n",
    "scene.add_light(light)\n",
    "\n",
    "sphere = Sphere ( (0,1,2) , 2, 'pigment { color Yellow }')\n",
    "scene.add_sphere(sphere)\n",
    "\n",
    "sphere = Sphere ( (0,-1,-2) , 1, 'pigment { color Red }')\n",
    "scene.add_sphere(sphere)"
   ]
  },
  {
   "cell_type": "code",
   "execution_count": 3,
   "metadata": {
    "ExecuteTime": {
     "end_time": "2022-11-05T15:53:54.968002Z",
     "start_time": "2022-11-05T15:53:54.966086Z"
    }
   },
   "outputs": [],
   "source": [
    "scene.generate_pov_file()"
   ]
  },
  {
   "cell_type": "code",
   "execution_count": null,
   "metadata": {},
   "outputs": [],
   "source": []
  }
 ],
 "metadata": {
  "kernelspec": {
   "display_name": "Python 3",
   "language": "python",
   "name": "python3"
  },
  "language_info": {
   "codemirror_mode": {
    "name": "ipython",
    "version": 3
   },
   "file_extension": ".py",
   "mimetype": "text/x-python",
   "name": "python",
   "nbconvert_exporter": "python",
   "pygments_lexer": "ipython3",
   "version": "3.8.10"
  }
 },
 "nbformat": 4,
 "nbformat_minor": 4
}
